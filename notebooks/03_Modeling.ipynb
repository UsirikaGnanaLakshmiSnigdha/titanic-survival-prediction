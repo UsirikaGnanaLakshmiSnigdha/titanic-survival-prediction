# 03_Model_Building.ipynb

# --- Import Libraries ---
import pandas as pd
import numpy as np
from sklearn.model_selection import train_test_split
from sklearn.preprocessing import StandardScaler, OneHotEncoder
from sklearn.compose import ColumnTransformer
from sklearn.pipeline import Pipeline
from sklearn.linear_model import LogisticRegression
from sklearn.ensemble import RandomForestClassifier, GradientBoostingClassifier
from sklearn.metrics import accuracy_score, roc_auc_score, roc_curve
import matplotlib.pyplot as plt
import joblib

# --- Load Titanic Dataset ---
# Make sure train.csv is in the same directory

df = pd.read_csv("train.csv")

# --- Features & Target ---
target = "Survived"
X = df.drop(columns=[target, "PassengerId", "Name", "Ticket", "Cabin"])
y = df[target]

# --- Split Train/Test ---
X_train, X_test, y_train, y_test = train_test_split(X, y, test_size=0.2, random_state=42, stratify=y)

# --- Preprocessing ---
numeric_features = ["Age", "Fare"]
categorical_features = ["Pclass", "Sex", "Embarked", "SibSp", "Parch"]

numeric_transformer = Pipeline(steps=[
    ("scaler", StandardScaler())
])

categorical_transformer = Pipeline(steps=[
    ("onehot", OneHotEncoder(handle_unknown="ignore"))
])

preprocessor = ColumnTransformer(
    transformers=[
        ("num", numeric_transformer, numeric_features),
        ("cat", categorical_transformer, categorical_features)
    ]
)

# --- Initialize Models ---
models = {
    "Logistic Regression": LogisticRegression(max_iter=1000),
    "Random Forest": RandomForestClassifier(n_estimators=200, random_state=42),
    "Gradient Boosting": GradientBoostingClassifier(n_estimators=200, random_state=42)
}

results = {}

# --- Train & Evaluate Models ---
for name, model in models.items():
    clf = Pipeline(steps=[("preprocessor", preprocessor),
                          ("classifier", model)])
    clf.fit(X_train, y_train)

    y_pred = clf.predict(X_test)
    y_prob = clf.predict_proba(X_test)[:,1]

    acc = accuracy_score(y_test, y_pred)
    auc = roc_auc_score(y_test, y_prob)
    results[name] = {"Accuracy": acc, "ROC-AUC": auc, "model": clf}

# --- Compare Results ---
results_df = pd.DataFrame(results).T.drop(columns=["model"])
print("\nModel Comparison:")
print(results_df)

# --- Plot ROC Curves ---
plt.figure(figsize=(8,6))
for name, info in results.items():
    clf = info["model"]
    y_prob = clf.predict_proba(X_test)[:,1]
    fpr, tpr, _ = roc_curve(y_test, y_prob)
    plt.plot(fpr, tpr, label=f"{name}")

plt.plot([0,1],[0,1], 'k--')
plt.xlabel("False Positive Rate")
plt.ylabel("True Positive Rate")
plt.title("ROC Curves - Titanic Survival Prediction")
plt.legend()
plt.show()

# --- Save Best Model ---
best_model_name = results_df["ROC-AUC"].idxmax()
best_model = results[best_model_name]["model"]

joblib.dump(best_model, "best_titanic_model.pkl")
print(f"Best model '{best_model_name}' saved as best_titanic_model.pkl")

