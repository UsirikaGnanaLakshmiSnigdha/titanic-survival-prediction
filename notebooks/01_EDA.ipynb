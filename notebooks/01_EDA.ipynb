# 01_EDA: Exploratory Data Analysis
In this notebook, we analyze the Titanic dataset to understand survival patterns before model building.
## Import Libraries

import pandas as pd
import numpy as np
import matplotlib.pyplot as plt
import seaborn as sns

# Set plot style
sns.set(style="whitegrid")

## Load Dataset

# Load training dataset
df = pd.read_csv("data/train.csv")

# Check first few rows
df.head()

## Basic Dataset Info

# Shape of dataset
print("Shape of dataset:", df.shape)

# Data types and missing values
df.info()

# Summary statistics
df.describe(include="all")

## Missing Values

# Count missing values per column
df.isnull().sum()

# Visualize missing data
plt.figure(figsize=(8,5))
sns.heatmap(df.isnull(), cbar=False, cmap="viridis")
plt.title("Missing Values Heatmap")
plt.show()

## Handle Missing Values

# Fill Age with median
df["Age"].fillna(df["Age"].median(), inplace=True)

# Fill Embarked with mode
df["Embarked"].fillna(df["Embarked"].mode()[0], inplace=True)

# Drop Cabin (too many missing values)
df.drop(columns=["Cabin"], inplace=True)

# Verify no missing values left (except if any remain)
df.isnull().sum()

## Univariate Analysis

# Count of survivors
sns.countplot(x="Survived", data=df)
plt.title("Survival Count (0 = Died, 1 = Survived)")
plt.show()

# Distribution of Age
sns.histplot(df["Age"], bins=30, kde=True)
plt.title("Age Distribution")
plt.show()

## Bivariate Analysis: Survival vs Features

# Survival by Sex
sns.countplot(x="Sex", hue="Survived", data=df)
plt.title("Survival by Gender")
plt.show()

# Survival by Pclass
sns.countplot(x="Pclass", hue="Survived", data=df)
plt.title("Survival by Passenger Class")
plt.show()

# Age vs Survival
sns.boxplot(x="Survived", y="Age", data=df)
plt.title("Age vs Survival")
plt.show()

## Correlation Heatmap

plt.figure(figsize=(10,6))
sns.heatmap(df.corr(), annot=True, cmap="coolwarm", fmt=".2f")
plt.title("Correlation Heatmap")
plt.show()

