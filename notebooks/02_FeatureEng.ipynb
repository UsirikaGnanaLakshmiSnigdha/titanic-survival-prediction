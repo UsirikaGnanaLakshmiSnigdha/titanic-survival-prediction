# 02_Feature_Engineering
In this notebook, we transform the Titanic dataset by converting categorical variables, creating new features, and scaling/normalizing where needed.
## Import Libraries

import pandas as pd
import numpy as np
from sklearn.preprocessing import LabelEncoder, StandardScaler

# Load dataset
df = pd.read_csv("data/train.csv")
df.head()

## Handle Missing Values (if any left)

# Fill Age with median
df["Age"].fillna(df["Age"].median(), inplace=True)

# Fill Embarked with mode
df["Embarked"].fillna(df["Embarked"].mode()[0], inplace=True)

# Drop Cabin (too sparse)
if "Cabin" in df.columns:
    df.drop(columns=["Cabin"], inplace=True)

df.isnull().sum()

## Convert Categorical Variables

# Convert 'Sex' to numeric
df["Sex"] = df["Sex"].map({"male": 0, "female": 1})

# Encode 'Embarked'
le = LabelEncoder()
df["Embarked"] = le.fit_transform(df["Embarked"])

df.head()

## Create New Features

# FamilySize = SibSp + Parch + 1
df["FamilySize"] = df["SibSp"] + df["Parch"] + 1

# IsAlone = 1 if FamilySize == 1, else 0
df["IsAlone"] = 0
df.loc[df["FamilySize"] == 1, "IsAlone"] = 1

# Extract Title from Name
df["Title"] = df["Name"].str.extract(" ([A-Za-z]+)\.", expand=False)
df["Title"] = df["Title"].replace(["Mlle", "Ms"], "Miss")
df["Title"] = df["Title"].replace("Mme", "Mrs")
df["Title"] = df["Title"].replace(["Lady", "Countess","Capt", "Col", "Don", "Dr", 
                                   "Major", "Rev", "Sir", "Jonkheer", "Dona"], "Rare")

# Encode Title
df["Title"] = le.fit_transform(df["Title"])

df[["Name", "Title"]].head()

## Drop Unused Columns

df.drop(columns=["Name", "Ticket"], inplace=True)
df.head()

## Scale Numerical Features

scaler = StandardScaler()

num_cols = ["Age", "Fare", "FamilySize"]
df[num_cols] = scaler.fit_transform(df[num_cols])

df.head()

## Save Processed Dataset

# Save engineered dataset for model building
df.to_csv("data/train_processed.csv", index=False)
print("Processed dataset saved to data/train_processed.csv")

